{
    "metadata": {
        "kernelspec": {
            "name": "SQL",
            "display_name": "SQL",
            "language": "sql"
        },
        "language_info": {
            "name": "sql",
            "version": ""
        },
        "application/vnd.databricks.v1+notebook": {
            "dashboards": [],
            "language": "python",
            "notebookMetadata": {
                "pythonIndentUnit": 4
            },
            "notebookName": "post_credit_memos_to_netsuite",
            "widgets": {}
        }
    },
    "nbformat_minor": 2,
    "nbformat": 4,
    "cells": [
        {
            "cell_type": "markdown",
            "source": [
                "# Define Parameters and Connections"
            ],
            "metadata": {
                "application/vnd.databricks.v1+cell": {
                    "cellMetadata": {
                        "byteLimit": 2048000,
                        "rowLimit": 10000
                    },
                    "inputWidgets": {},
                    "nuid": "8b2ed3bb-9ebd-425f-8566-37bbf1741e80",
                    "showTitle": false,
                    "title": ""
                },
                "azdata_cell_guid": "dbfa8791-f45a-4e5b-ab3e-b97ca5c231d7"
            }
        },
        {
            "cell_type": "markdown",
            "source": [
                "## Define stored procedure, sales channel id, and input table"
            ],
            "metadata": {
                "application/vnd.databricks.v1+cell": {
                    "cellMetadata": {
                        "byteLimit": 2048000,
                        "rowLimit": 10000
                    },
                    "inputWidgets": {},
                    "nuid": "002a86de-5594-453f-bf83-37deb78e4a50",
                    "showTitle": false,
                    "title": ""
                },
                "azdata_cell_guid": "25bb9457-daef-4cd2-9cbd-0b4aa0c9baa8"
            }
        },
        {
            "cell_type": "code",
            "source": [
                "import os\n",
                "\n",
                "stored_proc_name = jdbcHostname = os.getenv(\"SP_NAME\")\n",
                "sales_channel_id = jdbcHostname = os.getenv(\"CHANNEL_ID\")\n",
                "input_table_name = jdbcHostname = os.getenv(\"TABLE_NAME\")"
            ],
            "metadata": {
                "application/vnd.databricks.v1+cell": {
                    "cellMetadata": {
                        "byteLimit": 2048000,
                        "rowLimit": 10000
                    },
                    "inputWidgets": {},
                    "nuid": "e103318f-6ee2-45c0-8343-2e1de760ddfc",
                    "showTitle": false,
                    "title": ""
                },
                "azdata_cell_guid": "20359969-4b69-4973-9f58-0856a0ef8a28",
                "language": "sql"
            },
            "outputs": [],
            "execution_count": null
        },
        {
            "cell_type": "markdown",
            "source": [
                "## Define yesterday timestamp"
            ],
            "metadata": {
                "application/vnd.databricks.v1+cell": {
                    "cellMetadata": {
                        "byteLimit": 2048000,
                        "rowLimit": 10000
                    },
                    "inputWidgets": {},
                    "nuid": "87f5f60b-b28d-416e-a6f7-720993ce2c4d",
                    "showTitle": false,
                    "title": ""
                },
                "azdata_cell_guid": "40434e67-9428-4de7-a686-2921a252ce56"
            }
        },
        {
            "cell_type": "code",
            "source": [
                "from datetime import date, datetime, timedelta, timezone\n",
                "import pytz\n",
                "\n",
                "# time zone\n",
                "tz = 'US/Pacific'\n",
                "# difference between current and previous date\n",
                "delta = timedelta(days=1) # change to days=1 in production.\n",
                "\n",
                "# define yesterday\n",
                "yesterday = datetime.now(pytz.utc).astimezone(pytz.timezone(tz)) - delta\n",
                "yesterday_str = yesterday.strftime('%Y-%m-%d')"
            ],
            "metadata": {
                "application/vnd.databricks.v1+cell": {
                    "cellMetadata": {
                        "byteLimit": 2048000,
                        "rowLimit": 10000
                    },
                    "inputWidgets": {},
                    "nuid": "a8e12266-79f0-40f9-beff-c5e982c90804",
                    "showTitle": false,
                    "title": ""
                },
                "azdata_cell_guid": "ad45734d-5b7b-4b4f-bbe6-a70ad2b67670",
                "language": "sql"
            },
            "outputs": [],
            "execution_count": null
        },
        {
            "cell_type": "code",
            "source": [
                "yesterday, yesterday_str"
            ],
            "metadata": {
                "application/vnd.databricks.v1+cell": {
                    "cellMetadata": {
                        "byteLimit": 2048000,
                        "rowLimit": 10000
                    },
                    "inputWidgets": {},
                    "nuid": "a76ad285-746d-4796-abb6-5b137126e749",
                    "showTitle": false,
                    "title": ""
                },
                "azdata_cell_guid": "f4976542-6e79-45f6-abf5-f3968ae2463a",
                "language": "sql"
            },
            "outputs": [
                {
                    "output_type": "execute_result",
                    "execution_count": 3,
                    "data": {
                        "text/plain": "(datetime.datetime(2024, 1, 21, 13, 37, 34, 943235, tzinfo=<DstTzInfo 'US/Pacific' PST-1 day, 16:00:00 STD>),\n '2024-01-21')"
                    },
                    "metadata": {}
                }
            ],
            "execution_count": null
        },
        {
            "cell_type": "markdown",
            "source": [
                "## Define Azure SQL DB connnection"
            ],
            "metadata": {
                "application/vnd.databricks.v1+cell": {
                    "cellMetadata": {
                        "byteLimit": 2048000,
                        "rowLimit": 10000
                    },
                    "inputWidgets": {},
                    "nuid": "fab20253-c376-4495-8f96-c2b0be08ac07",
                    "showTitle": false,
                    "title": ""
                },
                "azdata_cell_guid": "13121001-b481-4eaf-afad-4f410adaa239"
            }
        },
        {
            "cell_type": "code",
            "source": [
                "import os\n",
                "\n",
                "# Define Azure SQL Database connection\n",
                "jdbcHostname = os.getenv(\"SQLDB_HOST\")\n",
                "user = os.getenv(\"SQLDB_USER\")\n",
                "password = dbutils.secrets.get(scope=\"azure_key_vault\", key=\"SQLDB-PW\") # use Azure Key Vault to save this password. \n",
                "jdbcDatabase = os.getenv(\"SQLDB_BBDW\")\n",
                "jdbcPort = 1433\n",
                "jdbcUrl = \"jdbc:sqlserver://{0}:{1};database={2}\".format(jdbcHostname, jdbcPort, jdbcDatabase)\n",
                "connectionProperties = {\n",
                "\"user\" : user,\n",
                "\"password\" : password,\n",
                "\"driver\" : \"com.microsoft.sqlserver.jdbc.SQLServerDriver\"\n",
                "}"
            ],
            "metadata": {
                "application/vnd.databricks.v1+cell": {
                    "cellMetadata": {
                        "byteLimit": 2048000,
                        "rowLimit": 10000
                    },
                    "inputWidgets": {},
                    "nuid": "f4cdc6ac-197c-4c34-9229-eaeabc11a93c",
                    "showTitle": false,
                    "title": ""
                },
                "azdata_cell_guid": "ac7d3dda-bc85-46ef-b437-6f356fddfa50",
                "language": "sql"
            },
            "outputs": [],
            "execution_count": null
        },
        {
            "cell_type": "markdown",
            "source": [
                "## Define NetSuite REST connnection"
            ],
            "metadata": {
                "application/vnd.databricks.v1+cell": {
                    "cellMetadata": {
                        "byteLimit": 2048000,
                        "rowLimit": 10000
                    },
                    "inputWidgets": {},
                    "nuid": "82b7c06f-fd15-4f60-b083-867357781847",
                    "showTitle": false,
                    "title": ""
                },
                "azdata_cell_guid": "ea4f0acb-64c7-4a3f-ae86-1bb1d6f10646"
            }
        },
        {
            "cell_type": "markdown",
            "source": [
                "Each request must use unique nonce. Therefore, it needs to create a random nonce for each POST request."
            ],
            "metadata": {
                "application/vnd.databricks.v1+cell": {
                    "cellMetadata": {
                        "byteLimit": 2048000,
                        "rowLimit": 10000
                    },
                    "inputWidgets": {},
                    "nuid": "f74a28de-c631-4bfe-a1f7-a605431427df",
                    "showTitle": false,
                    "title": ""
                },
                "azdata_cell_guid": "a0427441-0fee-41a4-a175-e372df8eb319"
            }
        },
        {
            "cell_type": "code",
            "source": [
                "import requests\n",
                "from requests_oauthlib import OAuth1\n",
                "import time\n",
                "import random\n",
                "import hashlib\n",
                "import hmac\n",
                "import base64\n",
                "import urllib.parse\n",
                "\n",
                "consumer_key = dbutils.secrets.get(scope=\"azure_key_vault\", key=\"NS-CONSUMER-KEY\") # use Azure Key Vault to save this. \n",
                "consumer_secret = dbutils.secrets.get(scope=\"azure_key_vault\", key=\"NS-CONSUMER-SECRET\") # use Azure Key Vault to save this. \n",
                "access_token = dbutils.secrets.get(scope=\"azure_key_vault\", key=\"NS-TOKEN-ID\") # use Azure Key Vault to save this. \n",
                "token_secret = dbutils.secrets.get(scope=\"azure_key_vault\", key=\"NS-TOKEN-SECRET\") # use Azure Key Vault to save this. \n",
                "realm = os.getenv(\"NS_REALM\") # change to NS_REALM in production.\n",
                "\n",
                "# The URL you want to access\n",
                "url = \"https://{0}.suitetalk.api.netsuite.com/services/rest/record/v1/creditMemo/\".format(os.getenv(\"NS_ACCOUNT_ID\")) # change to NS_ACCOUNT_ID in production.\n",
                "\n",
                "# The HTTP method you want to use\n",
                "method = \"POST\"\n",
                "\n",
                "def generateHeader(consumer_key, consumer_secret, access_token, token_secret, realm, url, method):\n",
                "    # Generate a nonce, which is a random string that is unique for each request\n",
                "    nonce = \"\".join(random.choice(\"abcdefghijklmnopqrstuvwxyz0123456789\") for i in range(32))\n",
                "\n",
                "    # Generate a timestamp, which is the number of seconds since January 1, 1970\n",
                "    timestamp = str(int(time.time()))\n",
                "\n",
                "    # Create a dictionary with the OAuth parameters\n",
                "    oauth_params = {\n",
                "        \"oauth_consumer_key\": consumer_key,\n",
                "        \"oauth_token\": access_token,\n",
                "        \"oauth_signature_method\": \"HMAC-SHA256\",\n",
                "        \"oauth_timestamp\": timestamp,\n",
                "        \"oauth_nonce\": nonce,\n",
                "        \"oauth_version\": \"1.0\"\n",
                "    }\n",
                "\n",
                "    # Create a signature base string, which is a concatenation of the HTTP method, the request URL, and the OAuth parameters\n",
                "    base_string = method.upper() + \"&\" + urllib.parse.quote(url, safe=\"\") + \"&\" + urllib.parse.quote(\"&\".join(sorted(key + \"=\" + urllib.parse.quote(value, safe=\"\") for key, value in oauth_params.items())), safe=\"\")\n",
                "\n",
                "    # Create a signing key, which is a combination of the consumer secret and the token secret\n",
                "    signing_key = urllib.parse.quote(consumer_secret, safe=\"\") + \"&\" + urllib.parse.quote(token_secret, safe=\"\")\n",
                "\n",
                "    # Calculate a signature, which is a hash of the signature base string and the signing key using the specified signature method\n",
                "    signature = base64.b64encode(hmac.new(signing_key.encode(), base_string.encode(), hashlib.sha256).digest()).decode()\n",
                "\n",
                "    # Add the signature to the OAuth parameters\n",
                "    oauth_params[\"oauth_signature\"] = signature\n",
                "\n",
                "    # Construct the Authorization header, which is a string that contains the OAuth parameters and the signature\n",
                "    auth_header = \"OAuth realm=\\\"\" + realm + \"\\\",\" + \",\".join(key + \"=\\\"\" + urllib.parse.quote(value, safe=\"\") + \"\\\"\" for key, value in oauth_params.items())\n",
                "\n",
                "    # Create a dictionary with the Authorization key and value\n",
                "    headers = {\"Authorization\": auth_header}\n",
                "\n",
                "    return headers"
            ],
            "metadata": {
                "application/vnd.databricks.v1+cell": {
                    "cellMetadata": {
                        "byteLimit": 2048000,
                        "rowLimit": 10000
                    },
                    "inputWidgets": {},
                    "nuid": "704b5058-3fdb-490f-8f84-0db056e374ed",
                    "showTitle": false,
                    "title": ""
                },
                "azdata_cell_guid": "3e8580d5-6aa1-44bd-b93a-e4a0a7834d43",
                "language": "sql"
            },
            "outputs": [],
            "execution_count": null
        },
        {
            "cell_type": "markdown",
            "source": [
                "# Execute Stored Procedure to generate the data input"
            ],
            "metadata": {
                "application/vnd.databricks.v1+cell": {
                    "cellMetadata": {
                        "byteLimit": 2048000,
                        "rowLimit": 10000
                    },
                    "inputWidgets": {},
                    "nuid": "5440a1fd-6d36-428a-8742-0501adf23aef",
                    "showTitle": false,
                    "title": ""
                },
                "azdata_cell_guid": "c559df30-58b4-499d-b748-e45f12518d33"
            }
        },
        {
            "cell_type": "code",
            "source": [
                "driver_manager = spark._sc._gateway.jvm.java.sql.DriverManager\n",
                "connection = driver_manager.getConnection(jdbcUrl, user, password)\n",
                "query = \"EXEC {0} '{1}', {2}, null;\".format(stored_proc_name, yesterday_str, sales_channel_id)\n",
                "connection.prepareCall(query).execute()\n",
                "connection.close()"
            ],
            "metadata": {
                "application/vnd.databricks.v1+cell": {
                    "cellMetadata": {
                        "byteLimit": 2048000,
                        "rowLimit": 10000
                    },
                    "inputWidgets": {},
                    "nuid": "6653b630-b829-4bdd-beb8-0166497f51b6",
                    "showTitle": false,
                    "title": ""
                },
                "azdata_cell_guid": "137e9b83-cb83-46a8-a8a5-4c1d71df9a93",
                "language": "sql"
            },
            "outputs": [],
            "execution_count": null
        },
        {
            "cell_type": "code",
            "source": [
                "# Load data from Azure SQL Database into a dataframe\n",
                "df = spark.read.jdbc(\n",
                "    url=jdbcUrl,\n",
                "    table=input_table_name,\n",
                "    properties=connectionProperties,\n",
                ")"
            ],
            "metadata": {
                "application/vnd.databricks.v1+cell": {
                    "cellMetadata": {
                        "byteLimit": 2048000,
                        "rowLimit": 10000
                    },
                    "inputWidgets": {},
                    "nuid": "ab228f11-8711-4060-a46a-67afb36f6160",
                    "showTitle": false,
                    "title": ""
                },
                "azdata_cell_guid": "9372c71f-22fa-41d4-8cbd-81d327f52293",
                "language": "sql"
            },
            "outputs": [],
            "execution_count": null
        },
        {
            "cell_type": "markdown",
            "source": [
                "# Prepare a JSON Body and POST a credit memo on NetSuite for each customer"
            ],
            "metadata": {
                "application/vnd.databricks.v1+cell": {
                    "cellMetadata": {
                        "byteLimit": 2048000,
                        "rowLimit": 10000
                    },
                    "inputWidgets": {},
                    "nuid": "ca7ad1e9-6759-4381-837f-45fcc7f6d01c",
                    "showTitle": false,
                    "title": ""
                },
                "azdata_cell_guid": "0e288a2d-7a40-485f-8f45-a54b96bf308f"
            }
        },
        {
            "cell_type": "code",
            "source": [
                "from pyspark.sql.functions import collect_list, struct, explode\n",
                "\n",
                "struct_df = df.groupBy(\"customer_id\").agg(collect_list(struct(*df.columns)).alias(\"struct_data\"))\n",
                "\n",
                "for id in struct_df.select(\"customer_id\").collect():\n",
                "    customer_df = struct_df.select(\"struct_data\").where(\"customer_id == {0}\".format(id[\"customer_id\"]))\n",
                "    customer_df = customer_df.select(explode(\"struct_data\").alias(\"col_name\"))\n",
                "    customer_df = customer_df.select(\"col_name.*\")\n",
                "\n",
                "    attributes = [\"customer\", \"department\", \"location\", \"subsidiary\"]\n",
                "    for attribute in attributes:\n",
                "        attribute_dict = {}\n",
                "        column = f\"{attribute}_id\"\n",
                "        attribute_dict[\"id\"] = customer_df.select(column).distinct().collect()[0][column]\n",
                "        exec(f\"{attribute}_dict = {attribute_dict}\")\n",
                "\n",
                "    item_list = []\n",
                "    item_cols = [\"line_internal_id\", \"quantity\", \"rate\", \"default_bin\"]\n",
                "    for item in customer_df.select(item_cols).collect():\n",
                "        if not item[\"default_bin\"]:\n",
                "            item_dict = {\n",
                "                \"item\": {\"id\": item[\"line_internal_id\"]},\n",
                "                \"quantity\": item[\"quantity\"],\n",
                "                \"rate\": float(item[\"rate\"]),\n",
                "                \"price\": {\"id\": \"-1\"},\n",
                "                \"commitInventory\": {\"id\": \"1\"},\n",
                "            }\n",
                "        else:  \n",
                "            item_dict = {\n",
                "                \"item\": {\"id\": item[\"line_internal_id\"]},\n",
                "                \"quantity\": item[\"quantity\"],\n",
                "                \"rate\": float(item[\"rate\"]),\n",
                "                \"price\": {\"id\": \"-1\"},\n",
                "                \"commitInventory\": {\"id\": \"1\"},\n",
                "                \"inventoryDetail\": {\n",
                "                    \"inventoryAssignment\": {\n",
                "                        \"items\": [\n",
                "                            {\n",
                "                                \"binNumber\": {\n",
                "                                    \"id\": item[\"default_bin\"]\n",
                "                                },\n",
                "                                \"quantity\": item[\"quantity\"]\n",
                "                            }\n",
                "                        ]\n",
                "                    }\n",
                "                }\n",
                "            }\n",
                "        item_list.append(item_dict)\n",
                "\n",
                "    json_body = {\n",
                "        \"entity\": customer_dict,  # customer\n",
                "        \"createdDate\": customer_df.select(\"createddate\").distinct().collect()[0][\"createddate\"] + \"T00:00:00Z\",  # It requires timestamp after the date.\n",
                "        \"tranDate\": customer_df.select(\"createddate\").distinct().collect()[0][\"createddate\"],\n",
                "        \"otherRefNum\": customer_df.select(\"otherrefnum\").distinct().collect()[0][\"otherrefnum\"],\n",
                "        \"memo\": customer_df.select(\"memomain\").distinct().collect()[0][\"memomain\"],\n",
                "        \"department\": department_dict,\n",
                "        \"location\": location_dict,\n",
                "        \"item\": {\"items\": item_list},\n",
                "        \"subsidiary\": subsidiary_dict,\n",
                "        \"status\": {\"id\": \"Open\"}\n",
                "    }\n",
                "    # Make the request and print the response\n",
                "    response = requests.post(url, headers=generateHeader(consumer_key, consumer_secret, access_token, token_secret, realm, url, method), json=json_body)\n",
                "    # print(response.status_code)\n",
                "    # print(response.content)\n",
                "    # print(json_body)"
            ],
            "metadata": {
                "application/vnd.databricks.v1+cell": {
                    "cellMetadata": {
                        "byteLimit": 2048000,
                        "rowLimit": 10000
                    },
                    "inputWidgets": {},
                    "nuid": "c937d9e7-bd70-4c8f-bc85-436877ec64de",
                    "showTitle": false,
                    "title": ""
                },
                "azdata_cell_guid": "f2ad1e2f-1bfe-41e2-8774-8fc19e728c32",
                "language": "sql"
            },
            "outputs": [],
            "execution_count": null
        }
    ]
}