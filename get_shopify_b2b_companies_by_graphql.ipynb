{
    "metadata": {
        "kernelspec": {
            "name": "python3",
            "display_name": "Python 3",
            "language": "python"
        },
        "language_info": {
            "name": "python",
            "version": "3.10.9",
            "mimetype": "text/x-python",
            "codemirror_mode": {
                "name": "ipython",
                "version": 3
            },
            "pygments_lexer": "ipython3",
            "nbconvert_exporter": "python",
            "file_extension": ".py"
        },
        "application/vnd.databricks.v1+notebook": {
            "dashboards": [],
            "language": "python",
            "notebookMetadata": {
                "pythonIndentUnit": 4
            },
            "notebookName": "get_shopify_b2b_companies_by_graphql",
            "widgets": {}
        }
    },
    "nbformat_minor": 2,
    "nbformat": 4,
    "cells": [
        {
            "cell_type": "markdown",
            "source": [
                "# Define table name, stored procedure name, connections, and GraphQL query"
            ],
            "metadata": {
                "application/vnd.databricks.v1+cell": {
                    "cellMetadata": {
                        "byteLimit": 2048000,
                        "rowLimit": 10000
                    },
                    "inputWidgets": {},
                    "nuid": "9d34a599-d910-4ade-978f-11ad08b949be",
                    "showTitle": false,
                    "title": ""
                },
                "azdata_cell_guid": "51df9fc3-3972-4702-8a0b-7d03d27cd810"
            }
        },
        {
            "cell_type": "code",
            "source": [
                "# Define output table and stored procedure name\n",
                "output_table_name = \"companies_raw\"\n",
                "stored_proc_name = \"load_companies\""
            ],
            "metadata": {
                "application/vnd.databricks.v1+cell": {
                    "cellMetadata": {
                        "byteLimit": 2048000,
                        "rowLimit": 10000
                    },
                    "inputWidgets": {},
                    "nuid": "ec4f00ea-6fe3-452b-885a-01517d155629",
                    "showTitle": false,
                    "title": ""
                },
                "azdata_cell_guid": "c24e4fb2-54cc-4b49-86ed-1c49f4dcd30a",
                "language": "python"
            },
            "outputs": [],
            "execution_count": null
        },
        {
            "cell_type": "code",
            "source": [
                "import os\n",
                "\n",
                "# Define Azure SQL Database connection\n",
                "jdbcHostname = os.getenv(\"SQLDB_HOST\")\n",
                "user = os.getenv(\"SQLDB_USER\")\n",
                "password = dbutils.secrets.get(scope=\"azure_key_vault\", key=\"SQLDB-PW\") # use Azure Key Vault to save this password. \n",
                "jdbcDatabase = os.getenv(\"SQLDB_BB\")\n",
                "jdbcPort = 1433\n",
                "jdbcUrl = \"jdbc:sqlserver://{0}:{1};database={2}\".format(jdbcHostname, jdbcPort, jdbcDatabase)\n",
                "connectionProperties = {\n",
                "\"user\" : user,\n",
                "\"password\" : password,\n",
                "\"driver\" : \"com.microsoft.sqlserver.jdbc.SQLServerDriver\"\n",
                "}"
            ],
            "metadata": {
                "application/vnd.databricks.v1+cell": {
                    "cellMetadata": {
                        "byteLimit": 2048000,
                        "rowLimit": 10000
                    },
                    "inputWidgets": {},
                    "nuid": "dccbdcee-2cc3-4bba-84c5-247b3b162428",
                    "showTitle": false,
                    "title": ""
                },
                "azdata_cell_guid": "5fe5b4d0-8a8f-41f5-86b9-fdeac9b54730",
                "language": "python"
            },
            "outputs": [],
            "execution_count": null
        },
        {
            "cell_type": "code",
            "source": [
                "import shopify\n",
                "\n",
                "# Define Shopify B2B private API connection\n",
                "shop_url = \"b2b.myshopify.com\"\n",
                "api_version = \"2023-04\" # the lastest version that can be supported by ShopifyAPI.\n",
                "private_app_password = dbutils.secrets.get(scope=\"azure_key_vault\", key=\"SHOPIFYB2B-PW\") # use Azure Key Vault to save this password. \n",
                "\n",
                "# Create a Shopify session\n",
                "session = shopify.Session(shop_url, api_version, private_app_password)"
            ],
            "metadata": {
                "application/vnd.databricks.v1+cell": {
                    "cellMetadata": {
                        "byteLimit": 2048000,
                        "rowLimit": 10000
                    },
                    "inputWidgets": {},
                    "nuid": "fe226ff6-2f5f-49d4-b701-3cfc92004a24",
                    "showTitle": false,
                    "title": ""
                },
                "azdata_cell_guid": "d5a2f0a1-4b2a-49b0-81a1-f10a6ca95881",
                "language": "python"
            },
            "outputs": [],
            "execution_count": null
        },
        {
            "cell_type": "code",
            "source": [
                "from datetime import datetime, timedelta\n",
                "import pytz\n",
                "# time zone\n",
                "tz = 'US/Pacific'\n",
                "# difference between current and previous date\n",
                "delta = timedelta(days=7)\n",
                "# define lastWeek\n",
                "lastWeek = datetime.now(pytz.utc).astimezone(pytz.timezone(tz)) - delta\n",
                "# make lastWeek as a string\n",
                "lastWeek = lastWeek.strftime(\"%Y-%m-%d\")"
            ],
            "metadata": {
                "application/vnd.databricks.v1+cell": {
                    "cellMetadata": {
                        "byteLimit": 2048000,
                        "rowLimit": 10000
                    },
                    "inputWidgets": {},
                    "nuid": "52a7e1f2-a345-4c2e-9487-9a28d6331c8a",
                    "showTitle": false,
                    "title": ""
                },
                "azdata_cell_guid": "3fdafece-6302-43e1-bb71-84f8387e00c9",
                "language": "python"
            },
            "outputs": [],
            "execution_count": null
        },
        {
            "cell_type": "code",
            "source": [
                "# Define the parameters\n",
                "FIRST = '100' # change to \"50\" in production\n",
                "CREATED_AT = '>' + lastWeek # '>2023-09-20' # change to \"lastWeek\" in production\n",
                "\n",
                "query = \"\"\"\n",
                "{\n",
                "  companies(first: %s, query: \"created_at:%s\")\n",
                "    {\n",
                "    edges {\n",
                "      cursor\n",
                "      node {\n",
                "        id\n",
                "        name\n",
                "        createdAt\n",
                "        externalId\n",
                "        locations(first: 5)\n",
                "        {\n",
                "            edges {\n",
                "                cursor\n",
                "                node {\n",
                "                        id\n",
                "                        name\n",
                "                        createdAt\n",
                "                        }\n",
                "                }\n",
                "            pageInfo {\n",
                "            hasNextPage\n",
                "            hasPreviousPage\n",
                "            startCursor\n",
                "            endCursor\n",
                "            }\n",
                "        }\n",
                "      }\n",
                "    }\n",
                "    pageInfo {\n",
                "      hasNextPage\n",
                "      hasPreviousPage\n",
                "      startCursor\n",
                "      endCursor\n",
                "    }\n",
                "  }\n",
                "}\n",
                "\"\"\" % (FIRST, CREATED_AT)"
            ],
            "metadata": {
                "application/vnd.databricks.v1+cell": {
                    "cellMetadata": {
                        "byteLimit": 2048000,
                        "rowLimit": 10000
                    },
                    "inputWidgets": {},
                    "nuid": "68a07ed8-469f-4599-86d6-3082b88963b5",
                    "showTitle": false,
                    "title": ""
                },
                "azdata_cell_guid": "1753ee91-c84f-4e9a-b847-570da105e836",
                "language": "python"
            },
            "outputs": [],
            "execution_count": null
        },
        {
            "cell_type": "markdown",
            "source": [
                "# Execute GraphQL query"
            ],
            "metadata": {
                "application/vnd.databricks.v1+cell": {
                    "cellMetadata": {
                        "byteLimit": 2048000,
                        "rowLimit": 10000
                    },
                    "inputWidgets": {},
                    "nuid": "56c7a79b-2bc9-4b60-93c1-3bcc42d23b7f",
                    "showTitle": false,
                    "title": ""
                },
                "azdata_cell_guid": "deb969c5-ce2f-48bb-b73c-959bd4ba80d2"
            }
        },
        {
            "cell_type": "code",
            "source": [
                "import pyspark.sql.functions as F\n",
                "import pyspark.sql.types as T\n",
                "import json\n",
                "\n",
                "# Define the schema for the DataFrame\n",
                "schema = T.StructType([\n",
                "    T.StructField(\"CompanyID\", T.StringType(), False),\n",
                "    T.StructField(\"CompanyName\", T.StringType(), False),\n",
                "    T.StructField(\"CreatedAt\", T.StringType(), False),\n",
                "    T.StructField(\"CompanyExternalID\", T.StringType(), True),\n",
                "    T.StructField(\"LocationIDs\", T.StringType(), False),\n",
                "    T.StructField(\"LocationNames\", T.StringType(), False),\n",
                "])\n",
                "\n",
                "# Create an empty list to hold the result temporarily\n",
                "data = []\n",
                "\n",
                "# Active the shopify session\n",
                "shopify.ShopifyResource.activate_session(session)\n",
                "\n",
                "# Execute GraphQL query and iterate to the end page\n",
                "while True:\n",
                "    result = shopify.GraphQL().execute(query)\n",
                "    response = json.loads(result)\n",
                "\n",
                "    for company in response['data']['companies']['edges']:\n",
                "        company_id = company[\"node\"][\"id\"]\n",
                "        company_name = company[\"node\"][\"name\"]\n",
                "        created_at = company[\"node\"][\"createdAt\"]\n",
                "        company_external_id = company[\"node\"][\"externalId\"]\n",
                "        locations = company[\"node\"][\"locations\"][\"edges\"]\n",
                "        location_ids = [loc[\"node\"][\"id\"] for loc in locations]\n",
                "        location_names = [loc[\"node\"][\"name\"] for loc in locations]\n",
                "\n",
                "        data.append((company_id, company_name, created_at, company_external_id, location_ids, location_names))\n",
                "\n",
                "    if not response['data']['companies']['pageInfo']['hasNextPage']:\n",
                "        break\n",
                "    \n",
                "    query = query.replace('first: %s' % FIRST, 'first: %s, after: \"%s\"' % (FIRST, response['data']['companies']['pageInfo']['endCursor']))\n",
                "\n",
                "# Create a DataFrame\n",
                "df = spark.createDataFrame(data, schema)\n",
                "\n",
                "# Disactive the shopify session\n",
                "shopify.ShopifyResource.clear_session()"
            ],
            "metadata": {
                "application/vnd.databricks.v1+cell": {
                    "cellMetadata": {
                        "byteLimit": 2048000,
                        "rowLimit": 10000
                    },
                    "inputWidgets": {},
                    "nuid": "36850642-c374-403d-8a17-536d1f846124",
                    "showTitle": false,
                    "title": ""
                },
                "azdata_cell_guid": "f94cda0a-f8fc-4908-96c1-226b22206cb4",
                "language": "python"
            },
            "outputs": [],
            "execution_count": null
        },
        {
            "cell_type": "markdown",
            "source": [
                "# Save the response to Azure SQL DB"
            ],
            "metadata": {
                "application/vnd.databricks.v1+cell": {
                    "cellMetadata": {
                        "byteLimit": 2048000,
                        "rowLimit": 10000
                    },
                    "inputWidgets": {},
                    "nuid": "e7c51b4c-b6c2-404f-8bc5-9bd13fb9cab1",
                    "showTitle": false,
                    "title": ""
                },
                "azdata_cell_guid": "071405a2-3a2b-4755-90dd-e8c2b799a4f8"
            }
        },
        {
            "cell_type": "code",
            "source": [
                "# Define the output columns\n",
                "output_cols = [\n",
                "    \"CompanyID\",\n",
                "    \"CompanyName\",\n",
                "    \"CreatedAt\",\n",
                "    \"CompanyExternalID\",\n",
                "    \"LocationIDs\",\n",
                "    \"LocationNames\",\n",
                "    \"RecordCreatedDate\",\n",
                "]"
            ],
            "metadata": {
                "application/vnd.databricks.v1+cell": {
                    "cellMetadata": {
                        "byteLimit": 2048000,
                        "rowLimit": 10000
                    },
                    "inputWidgets": {},
                    "nuid": "95237068-4ae0-4b28-97bb-6dce69c4acc0",
                    "showTitle": false,
                    "title": ""
                },
                "azdata_cell_guid": "f073eb4a-84c2-4732-a2fd-da1c0a9ca549",
                "language": "python"
            },
            "outputs": [],
            "execution_count": null
        },
        {
            "cell_type": "code",
            "source": [
                "# Get the current Pacific Time\n",
                "current_timestamp_pt = F.from_utc_timestamp(\n",
                "    F.current_timestamp(), \"America/Los_Angeles\"\n",
                ")\n",
                "\n",
                "# Output with current timestamp\n",
                "df = df.withColumn(\"RecordCreatedDate\", current_timestamp_pt)\n",
                "\n",
                "# Overwrite the output into Azure SQL Database\n",
                "df.select(output_cols).write.jdbc(\n",
                "    url=jdbcUrl,\n",
                "    table=output_table_name,\n",
                "    mode=\"overwrite\",\n",
                "    properties=connectionProperties,\n",
                ")"
            ],
            "metadata": {
                "application/vnd.databricks.v1+cell": {
                    "cellMetadata": {
                        "byteLimit": 2048000,
                        "rowLimit": 10000
                    },
                    "inputWidgets": {},
                    "nuid": "dac1fe44-5422-4a4b-92b3-0f4b40265091",
                    "showTitle": false,
                    "title": ""
                },
                "azdata_cell_guid": "731c4a3f-211e-470f-9564-f64b95d01554",
                "language": "python"
            },
            "outputs": [],
            "execution_count": null
        },
        {
            "cell_type": "markdown",
            "source": [
                "# Execute Stored Procedure to delete the existing companies and load data into table"
            ],
            "metadata": {
                "application/vnd.databricks.v1+cell": {
                    "cellMetadata": {
                        "byteLimit": 2048000,
                        "rowLimit": 10000
                    },
                    "inputWidgets": {},
                    "nuid": "acca363d-9ea2-451d-b4f7-70a056434cc9",
                    "showTitle": false,
                    "title": ""
                },
                "azdata_cell_guid": "b6997486-19eb-449c-8973-ee0b1633cc49"
            }
        },
        {
            "cell_type": "code",
            "source": [
                "driver_manager = spark._sc._gateway.jvm.java.sql.DriverManager\n",
                "connection = driver_manager.getConnection(jdbcUrl, user, password)\n",
                "query = \"EXEC {0};\".format(stored_proc_name)\n",
                "connection.prepareCall(query).execute()\n",
                "connection.close()"
            ],
            "metadata": {
                "application/vnd.databricks.v1+cell": {
                    "cellMetadata": {
                        "byteLimit": 2048000,
                        "rowLimit": 10000
                    },
                    "inputWidgets": {},
                    "nuid": "a5277626-3dc6-4beb-9e9d-53d096b0fec3",
                    "showTitle": false,
                    "title": ""
                },
                "azdata_cell_guid": "abdcfe8f-b8b5-407e-a06e-066416c82c3e",
                "language": "python"
            },
            "outputs": [],
            "execution_count": null
        }
    ]
}