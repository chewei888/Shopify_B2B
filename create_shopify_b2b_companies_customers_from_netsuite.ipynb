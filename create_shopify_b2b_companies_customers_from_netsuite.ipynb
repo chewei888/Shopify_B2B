{
    "metadata": {
        "kernelspec": {
            "name": "python3",
            "display_name": "Python 3",
            "language": "python"
        },
        "language_info": {
            "name": "python",
            "version": "3.10.9",
            "mimetype": "text/x-python",
            "codemirror_mode": {
                "name": "ipython",
                "version": 3
            },
            "pygments_lexer": "ipython3",
            "nbconvert_exporter": "python",
            "file_extension": ".py"
        },
        "application/vnd.databricks.v1+notebook": {
            "dashboards": [],
            "language": "python",
            "notebookMetadata": {
                "pythonIndentUnit": 4
            },
            "notebookName": "create_shopify_b2b_companies_customers_from_netsuite",
            "widgets": {}
        }
    },
    "nbformat_minor": 2,
    "nbformat": 4,
    "cells": [
        {
            "cell_type": "markdown",
            "source": [
                "# Source"
            ],
            "metadata": {
                "application/vnd.databricks.v1+cell": {
                    "cellMetadata": {
                        "byteLimit": 2048000,
                        "rowLimit": 10000
                    },
                    "inputWidgets": {},
                    "nuid": "def9c745-759e-40b9-9dea-3de9cc3c2770",
                    "showTitle": false,
                    "title": ""
                },
                "azdata_cell_guid": "b4d4d21d-7900-48c5-a512-415537ef3a1e"
            }
        },
        {
            "cell_type": "markdown",
            "source": [
                "## Define NetSuite REST connnection"
            ],
            "metadata": {
                "application/vnd.databricks.v1+cell": {
                    "cellMetadata": {
                        "byteLimit": 2048000,
                        "rowLimit": 10000
                    },
                    "inputWidgets": {},
                    "nuid": "82b7c06f-fd15-4f60-b083-867357781847",
                    "showTitle": false,
                    "title": ""
                },
                "azdata_cell_guid": "deb9c532-94e6-44e9-a54e-814c7f6bae11"
            }
        },
        {
            "cell_type": "code",
            "source": [
                "import os\n",
                "import requests\n",
                "import oauthlib.oauth1\n",
                "\n",
                "consumer_key = dbutils.secrets.get(scope=\"azure_key_vault\", key=\"NS-CONSUMER-KEY\") # use Azure Key Vault to save this. \n",
                "consumer_secret = dbutils.secrets.get(scope=\"azure_key_vault\", key=\"NS-CONSUMER-SECRET\") # use Azure Key Vault to save this. \n",
                "access_token = dbutils.secrets.get(scope=\"azure_key_vault\", key=\"NS-TOKEN-ID\") # use Azure Key Vault to save this. \n",
                "token_secret = dbutils.secrets.get(scope=\"azure_key_vault\", key=\"NS-TOKEN-SECRET\") # use Azure Key Vault to save this. \n",
                "realm = os.getenv(\"NS_REALM\") # change to NS_REALM in production.\n",
                "\n",
                "oauth = oauthlib.oauth1.Client(\n",
                "    client_key=consumer_key,\n",
                "    client_secret=consumer_secret,\n",
                "    resource_owner_key=access_token,\n",
                "    resource_owner_secret=token_secret,\n",
                "    signature_method='HMAC-SHA256',\n",
                "    signature_type='AUTH_HEADER',\n",
                "    realm=realm\n",
                ")\n",
                "\n",
                "def suiteQL(oauth, url, body):\n",
                "    uri, headers, _ = oauth.sign(url, http_method='POST')\n",
                "    headers['Prefer'] = 'transient' # SuiteQL requires this specific header\n",
                "    return requests.post(uri, data=body, headers=headers)\n",
                "\n",
                "def queryAllCompanies(oauth, url, body):\n",
                "    customers = []\n",
                "    while url:\n",
                "        json_response = suiteQL(oauth, url, body).json()\n",
                "        customers.extend(json_response['items']) # extend will merge two lists. append adds a single element, while extend concatenates another list.\n",
                "        next_link = next((link for link in json_response['links'] if link['rel'] == 'next'), None) # The next() function in Python is used to retrieve the next item from an iterator, json_response['links']. The None in this context for the next() call serves as a default return value if no next link is found.\n",
                "        url = next_link['href'] if next_link else None # if no next_link, stop the while loop.\n",
                "    return customers"
            ],
            "metadata": {
                "application/vnd.databricks.v1+cell": {
                    "cellMetadata": {
                        "byteLimit": 2048000,
                        "rowLimit": 10000
                    },
                    "inputWidgets": {},
                    "nuid": "f86c8803-cc50-4abc-8e48-495d1b929387",
                    "showTitle": false,
                    "title": ""
                },
                "azdata_cell_guid": "20e08f4c-a7b1-4826-a156-a0f3ab6596ec",
                "language": "python"
            },
            "outputs": [],
            "execution_count": null
        },
        {
            "cell_type": "markdown",
            "source": [
                "## Query B2B customers by NetSuite SuiteQL"
            ],
            "metadata": {
                "application/vnd.databricks.v1+cell": {
                    "cellMetadata": {
                        "byteLimit": 2048000,
                        "rowLimit": 10000
                    },
                    "inputWidgets": {},
                    "nuid": "2ad648cb-6771-4053-aa2b-448059d3ec4f",
                    "showTitle": false,
                    "title": ""
                },
                "azdata_cell_guid": "f8210a0b-1b9b-4324-9980-151ddd3ab40e"
            }
        },
        {
            "cell_type": "markdown",
            "source": [
                "SuiteQL does not have address information.\n",
                "\n",
                "B2B customers are in salesRep = 227. Ingore the customers that do not have name or email."
            ],
            "metadata": {
                "application/vnd.databricks.v1+cell": {
                    "cellMetadata": {
                        "byteLimit": 2048000,
                        "rowLimit": 10000
                    },
                    "inputWidgets": {},
                    "nuid": "9377ca55-42f8-4a7b-bf37-39128d9ec228",
                    "showTitle": false,
                    "title": ""
                },
                "azdata_cell_guid": "469d3b44-f3eb-48a3-9e49-5a9368c21653"
            },
            "attachments": {}
        },
        {
            "cell_type": "code",
            "source": [
                "# The initial URL you want to start\n",
                "offset = 0\n",
                "url = \"https://{0}.suitetalk.api.netsuite.com/services/rest/query/v1/suiteql?limit=1000&offset={1}\".format(os.getenv(\"NS_ACCOUNT_ID\"), offset)\n",
                "\n",
                "# create body.\n",
                "body = '''\n",
                "{\n",
                "    \"q\": \"SELECT DISTINCT c.id, c.companyName, c.email, c.custentity3, c.salesRep, ea.addr1, ea.addr2, ea.addr3, ea.city, ea.state, ea.zip, ea.country, ea.addressee FROM Customer c LEFT JOIN EntityAddressbook eab ON eab.entity = c.id LEFT JOIN EntityAddress ea ON ea.nkey = eab.AddressBookAddress WHERE salesRep = 227 AND companyName IS NOT NULL AND eab.defaultbilling = 'T' AND c.IsInactive = 'F'\"\n",
                "}\n",
                "'''\n",
                "\n",
                "# query all B2B customers\n",
                "customers = queryAllCompanies(oauth, url, body)"
            ],
            "metadata": {
                "application/vnd.databricks.v1+cell": {
                    "cellMetadata": {
                        "byteLimit": 2048000,
                        "rowLimit": 10000
                    },
                    "inputWidgets": {},
                    "nuid": "ccc0cbfa-b1b6-42ed-9bd6-90eab07ea60f",
                    "showTitle": false,
                    "title": ""
                },
                "azdata_cell_guid": "43c2b45b-5ba7-4095-9355-0c1b313a28ea",
                "language": "python"
            },
            "outputs": [],
            "execution_count": null
        },
        {
            "cell_type": "code",
            "source": [
                "len(customers)"
            ],
            "metadata": {
                "application/vnd.databricks.v1+cell": {
                    "cellMetadata": {
                        "byteLimit": 2048000,
                        "rowLimit": 10000
                    },
                    "inputWidgets": {},
                    "nuid": "4974f71d-33f2-483d-b0a3-6e6e6c93212a",
                    "showTitle": false,
                    "title": ""
                },
                "azdata_cell_guid": "40ff7842-457b-4a12-a1b9-2d3bffa5e404",
                "language": "python"
            },
            "outputs": [
                {
                    "output_type": "execute_result",
                    "execution_count": 3,
                    "data": {
                        "text/plain": "2766"
                    },
                    "metadata": {}
                }
            ],
            "execution_count": null
        },
        {
            "cell_type": "markdown",
            "source": [
                "# Destination"
            ],
            "metadata": {
                "application/vnd.databricks.v1+cell": {
                    "cellMetadata": {
                        "byteLimit": 2048000,
                        "rowLimit": 10000
                    },
                    "inputWidgets": {},
                    "nuid": "30dd2aa4-4dd2-4e00-9ee0-49ee171b7a25",
                    "showTitle": false,
                    "title": ""
                },
                "azdata_cell_guid": "9f60b692-1a56-4f3a-8a0b-7d8f70c5dbde"
            }
        },
        {
            "cell_type": "markdown",
            "source": [
                "## Define Shopify GraphQL connection"
            ],
            "metadata": {
                "application/vnd.databricks.v1+cell": {
                    "cellMetadata": {
                        "byteLimit": 2048000,
                        "rowLimit": 10000
                    },
                    "inputWidgets": {},
                    "nuid": "288112b0-cf8c-47fb-baf2-f3fe30f137e2",
                    "showTitle": false,
                    "title": ""
                },
                "azdata_cell_guid": "763c6c17-2d7d-460d-8c6b-eb1808160be2"
            }
        },
        {
            "cell_type": "code",
            "source": [
                "import shopify\n",
                "\n",
                "# Define Shopify B2B private API connection\n",
                "shop = os.getenv(\"SHOPIFY_B2B\")\n",
                "shop_url = f'{shop}.myshopify.com'\n",
                "api_version = \"2023-04\" # the lastest version that can be supported by ShopifyAPI.\n",
                "private_app_password = dbutils.secrets.get(scope=\"azure_key_vault\", key=\"SHOPIFYB2B-PW\") # use Azure Key Vault to save this password. \n",
                "\n",
                "# Create a Shopify session\n",
                "session = shopify.Session(shop_url, api_version, private_app_password)"
            ],
            "metadata": {
                "application/vnd.databricks.v1+cell": {
                    "cellMetadata": {
                        "byteLimit": 2048000,
                        "rowLimit": 10000
                    },
                    "inputWidgets": {},
                    "nuid": "0d948d92-3c1c-4117-b33c-259ac15571fd",
                    "showTitle": false,
                    "title": ""
                },
                "azdata_cell_guid": "5c2888cc-c4a9-4ec0-bcef-53bb33341bc7",
                "language": "python"
            },
            "outputs": [],
            "execution_count": null
        },
        {
            "cell_type": "markdown",
            "source": [
                "## Create new companies and related customers on Shopify B2B"
            ],
            "metadata": {
                "application/vnd.databricks.v1+cell": {
                    "cellMetadata": {
                        "byteLimit": 2048000,
                        "rowLimit": 10000
                    },
                    "inputWidgets": {},
                    "nuid": "299b7d00-9307-4a07-aace-5622880b6d4e",
                    "showTitle": false,
                    "title": ""
                },
                "azdata_cell_guid": "a0c2655e-3a39-452f-a468-2c7675d2c37b"
            }
        },
        {
            "cell_type": "markdown",
            "source": [
                "If the company exists in Shopify B2B, the result will throw an error: TAKEN and won't create a new one on Shopify B2B. If the company does not exist, it will create the company and related customer on Shopify B2B.\n",
                "\n",
                "Please note that a company can only link to a customer that is not taken by other companies.\n",
                "\n",
                "NetSuite does not have the main contact's lastName and firstName. However, email and firstName are required on Shopify. Hence, firstName defaults as B2B and use companyName as lastName. email should not use the one from NetSuite. Instead, create a different email for each company following this pattern: [companyname@b2b.com].\n",
                "\n",
                "Ignore zoneCode because NetSuite may not have the two-letter code for it. [https://shopify.dev/docs/api/admin-graphql/2024-01/input-objects/CompanyAddressInput](https://shopify.dev/docs/api/admin-graphql/2024-01/input-objects/CompanyAddressInput)"
            ],
            "metadata": {
                "application/vnd.databricks.v1+cell": {
                    "cellMetadata": {
                        "byteLimit": 2048000,
                        "rowLimit": 10000
                    },
                    "inputWidgets": {},
                    "nuid": "ef44f4fb-41f8-4f0d-b19a-a998207664e1",
                    "showTitle": false,
                    "title": ""
                },
                "azdata_cell_guid": "49ac96dc-a62d-4606-a058-fed6cec6474c"
            },
            "attachments": {}
        },
        {
            "cell_type": "code",
            "source": [
                "# Active the shopify session\n",
                "shopify.ShopifyResource.activate_session(session)\n",
                "\n",
                "# Execute GraphQL query and iterate over the customers\n",
                "for customer in customers[:2]: # Take only first 2 customers. Remove it in PRODUCTION.\n",
                "    companyname = customer.get('companyname')\n",
                "    address1 = customer.get('addr1')\n",
                "    address2 = (\"\" if not customer.get('addr2') else customer.get('addr2'))\n",
                "    city = customer.get('city')\n",
                "    zoneCode = customer.get('state')\n",
                "    zip = customer.get('zip')\n",
                "    countryCode = customer.get('country')\n",
                "    recipient = customer.get('addressee')\n",
                "    email = customer.get('companyname').replace(' ', '').lower() + '@b2b.com'\n",
                "    query = '''\n",
                "    mutation MyMutation {\n",
                "        companyCreate(\n",
                "            input: {company: {name: \"%s\"}, companyContact: {email: \"%s\", lastName: \"%s\", firstName: \"B2B\"}, companyLocation: {billingAddress: {address1: \"%s\", address2: \"%s\", city: \"%s\", zip: \"%s\", countryCode: %s, recipient: \"%s\"}, , shippingAddress: {address1: \"%s\", address2: \"%s\", city: \"%s\", zip: \"%s\", countryCode: %s, recipient: \"%s\"}}}\n",
                "        ) {\n",
                "            userErrors {\n",
                "                code\n",
                "                field\n",
                "            }\n",
                "        }\n",
                "    }\n",
                "    ''' % (companyname, email, companyname, address1, address2, city, zip, countryCode, recipient, address1, address2, city, zip, countryCode, recipient)  # Use string interpolation to insert the values into the query\n",
                "    result = shopify.GraphQL().execute(query)\n",
                "\n",
                "# Disactivate the shopify session\n",
                "shopify.ShopifyResource.clear_session()"
            ],
            "metadata": {
                "application/vnd.databricks.v1+cell": {
                    "cellMetadata": {
                        "byteLimit": 2048000,
                        "rowLimit": 10000
                    },
                    "inputWidgets": {},
                    "nuid": "6924637c-e935-4bee-bcc8-613e9d2efd5a",
                    "showTitle": false,
                    "title": ""
                },
                "azdata_cell_guid": "01e11db2-321f-4c54-92b6-1a125f38de91",
                "language": "python"
            },
            "outputs": [],
            "execution_count": null
        },
        {
            "cell_type": "code",
            "source": [
                "result"
            ],
            "metadata": {
                "application/vnd.databricks.v1+cell": {
                    "cellMetadata": {
                        "byteLimit": 2048000,
                        "rowLimit": 10000
                    },
                    "inputWidgets": {},
                    "nuid": "1e366b55-f7dd-4e85-bafb-1b6134fb9ee5",
                    "showTitle": false,
                    "title": ""
                },
                "azdata_cell_guid": "b6869afc-518a-4678-a93f-f107beb142a3",
                "language": "python"
            },
            "outputs": [
                {
                    "output_type": "execute_result",
                    "execution_count": 6,
                    "data": {
                        "text/plain": "'{\"data\":{\"companyCreate\":{\"userErrors\":[]}},\"extensions\":{\"cost\":{\"requestedQueryCost\":10,\"actualQueryCost\":10,\"throttleStatus\":{\"maximumAvailable\":20000.0,\"currentlyAvailable\":19990,\"restoreRate\":1000.0}}}}'"
                    },
                    "metadata": {}
                }
            ],
            "execution_count": null
        }
    ]
}
