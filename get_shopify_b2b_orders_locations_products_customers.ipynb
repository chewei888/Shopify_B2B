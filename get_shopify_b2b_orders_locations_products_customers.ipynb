{
    "metadata": {
        "kernelspec": {
            "name": "python3",
            "display_name": "Python 3",
            "language": "python"
        },
        "language_info": {
            "name": "python",
            "version": "3.10.9",
            "mimetype": "text/x-python",
            "codemirror_mode": {
                "name": "ipython",
                "version": 3
            },
            "pygments_lexer": "ipython3",
            "nbconvert_exporter": "python",
            "file_extension": ".py"
        },
        "application/vnd.databricks.v1+notebook": {
            "dashboards": [],
            "language": "python",
            "notebookMetadata": {
                "pythonIndentUnit": 4
            },
            "notebookName": "get_shopify_b2b_orders_locations_products_customers",
            "widgets": {}
        }
    },
    "nbformat_minor": 2,
    "nbformat": 4,
    "cells": [
        {
            "cell_type": "markdown",
            "source": [
                "# Define Connections and Variables"
            ],
            "metadata": {
                "application/vnd.databricks.v1+cell": {
                    "cellMetadata": {
                        "byteLimit": 2048000,
                        "rowLimit": 10000
                    },
                    "inputWidgets": {},
                    "nuid": "5dede19b-65f2-4033-849b-30936dc48116",
                    "showTitle": false,
                    "title": ""
                },
                "azdata_cell_guid": "f1367399-9237-463b-82d4-d1fbfb35b000"
            }
        },
        {
            "cell_type": "code",
            "source": [
                "import os\n",
                "import requests\n",
                "from requests.auth import HTTPBasicAuth\n",
                "\n",
                "# Set your store URL and API key\n",
                "shop = os.getenv(\"SHOPIFY_B2B\")\n",
                "shop_url = f'https://{shop}.myshopify.com'\n",
                "username = os.getenv(\"SHOPIFY_B2B_USER\")\n",
                "private_app_password = dbutils.secrets.get(scope=\"azure_key_vault\", key=\"SHOPIFYB2B-PW\") # use Azure Key Vault to save this password. \n",
                "basic = HTTPBasicAuth(username, private_app_password)"
            ],
            "metadata": {
                "application/vnd.databricks.v1+cell": {
                    "cellMetadata": {
                        "byteLimit": 2048000,
                        "rowLimit": 10000
                    },
                    "inputWidgets": {},
                    "nuid": "236339b2-4a6e-4817-aca8-40652491db75",
                    "showTitle": false,
                    "title": ""
                },
                "azdata_cell_guid": "648f8517-fb0e-41eb-822b-ff4d12137327",
                "language": "python"
            },
            "outputs": [],
            "execution_count": null
        },
        {
            "cell_type": "code",
            "source": [
                "# Define Azure SQL Database connection\n",
                "jdbcHostname = os.getenv(\"SQLDB_HOST\")\n",
                "user = os.getenv(\"SQLDB_USER\")\n",
                "password = dbutils.secrets.get(scope=\"azure_key_vault\", key=\"SQLDB-PW\") # use Azure Key Vault to save this password. \n",
                "jdbcDatabase = os.getenv(\"SQLDB_BB\")\n",
                "jdbcPort = 1433\n",
                "jdbcUrl = \"jdbc:sqlserver://{0}:{1};database={2}\".format(jdbcHostname, jdbcPort, jdbcDatabase)\n",
                "connectionProperties = {\n",
                "\"user\" : user,\n",
                "\"password\" : password,\n",
                "\"driver\" : \"com.microsoft.sqlserver.jdbc.SQLServerDriver\"\n",
                "}"
            ],
            "metadata": {
                "application/vnd.databricks.v1+cell": {
                    "cellMetadata": {
                        "byteLimit": 2048000,
                        "rowLimit": 10000
                    },
                    "inputWidgets": {},
                    "nuid": "b6750ff6-fb7d-433e-84c1-760ab5034b10",
                    "showTitle": false,
                    "title": ""
                },
                "azdata_cell_guid": "055206d6-6be7-46a9-bc05-857be1b80107",
                "language": "python"
            },
            "outputs": [],
            "execution_count": null
        },
        {
            "cell_type": "code",
            "source": [
                "from datetime import date, datetime, timedelta, timezone\n",
                "import pytz\n",
                "\n",
                "def is_daylight_saving(date, tz):\n",
                "    # Checks if a given date is in daylight saving time.\n",
                "    # Returns True if the date is in daylight saving time, False otherwise.\n",
                "    timezone = pytz.timezone(tz)\n",
                "    date = timezone.localize(datetime.strptime(date, '%Y-%m-%d'))\n",
                "    return date.dst() != timedelta(0)\n",
                "\n",
                "# time zone\n",
                "tz = 'US/Pacific'\n",
                "# difference between current and previous date\n",
                "delta = timedelta(days=1)\n",
                "\n",
                "# start date and end date of a year yesterday\n",
                "yesterday = datetime.now(pytz.utc).astimezone(pytz.timezone(tz)) - delta\n",
                "start_dt = date(yesterday.year, 1, 1)\n",
                "end_dt = date(yesterday.year, 12, 31)\n",
                "\n",
                "# store the dates between two dates in a list\n",
                "dates = []\n",
                "\n",
                "while start_dt <= end_dt:\n",
                "    # add current date to list by converting  it to iso format\n",
                "    if is_daylight_saving(start_dt.isoformat(), tz):\n",
                "        dates.append(start_dt)\n",
                "    # increment start date by timedelta\n",
                "    start_dt += delta"
            ],
            "metadata": {
                "application/vnd.databricks.v1+cell": {
                    "cellMetadata": {
                        "byteLimit": 2048000,
                        "rowLimit": 10000
                    },
                    "inputWidgets": {},
                    "nuid": "8f00fdda-b85b-4b48-b91b-794e62ea4c36",
                    "showTitle": false,
                    "title": ""
                },
                "azdata_cell_guid": "65d033ba-1899-4b6d-a30e-137ee8e7bfa7",
                "language": "python"
            },
            "outputs": [],
            "execution_count": null
        },
        {
            "cell_type": "code",
            "source": [
                "from datetime import date, timedelta\n",
                "\n",
                "# Variables\n",
                "output_table_name = \"shopify_response\"\n",
                "sales_channel_id = 5\n",
                "api_version = \"2023-10\"\n",
                "entities = [\"orders\", \"locations\", \"products\", \"customers\"]\n",
                "date_types = [\"created_at\", \"updated_at\"]\n",
                "start_date = yesterday.strftime(\"%Y-%m-%d\") # '2023-11-08' # yesterday in Production\n",
                "end_date = start_date # start_date in Production\n",
                "limit = 250  # 250 in Production\n",
                "\n",
                "# define us_min_tz and us_max_tz\n",
                "if start_date < dates[0].isoformat() or start_date > dates[-1].isoformat():\n",
                "    us_min_tz = '-08'\n",
                "elif dates[0].isoformat() <= start_date <= dates[-1].isoformat():\n",
                "    us_min_tz = '-07'\n",
                "\n",
                "if end_date < (dates[0] - delta).isoformat() or end_date >= dates[-1].isoformat():\n",
                "    us_max_tz = '-08'\n",
                "elif (dates[0] - delta).isoformat() <= end_date < dates[-1].isoformat():\n",
                "    us_max_tz = '-07'"
            ],
            "metadata": {
                "application/vnd.databricks.v1+cell": {
                    "cellMetadata": {
                        "byteLimit": 2048000,
                        "rowLimit": 10000
                    },
                    "inputWidgets": {},
                    "nuid": "61a11d6c-b75d-48af-93d6-d572b7b3ccdb",
                    "showTitle": false,
                    "title": ""
                },
                "azdata_cell_guid": "6a4b9929-e2f0-43a6-8045-0f72f32d2cf9",
                "language": "python"
            },
            "outputs": [],
            "execution_count": null
        },
        {
            "cell_type": "markdown",
            "source": [
                "# Get Response from Shopify REST API"
            ],
            "metadata": {
                "application/vnd.databricks.v1+cell": {
                    "cellMetadata": {
                        "byteLimit": 2048000,
                        "rowLimit": 10000
                    },
                    "inputWidgets": {},
                    "nuid": "c50f58ae-aa90-48b9-a61f-c4ea426b86b6",
                    "showTitle": false,
                    "title": ""
                },
                "azdata_cell_guid": "db9a3f3d-33a5-4822-80a2-d08a6f5155a8"
            }
        },
        {
            "cell_type": "code",
            "source": [
                "def get_requests(shop_url: str, api_version: str, entity: str, isCount: bool, date_type: str, start_date: str, end_date: str, us_min_tz: str, us_max_tz: str, limit: int=250, authentication=basic) -> list:\n",
                "    # Create an empty list to hold the result temporarily\n",
                "    data = []\n",
                "    \n",
                "    if not isCount:\n",
                "        # Get requests from REST API and iterate to the end page\n",
                "        result = requests.get(f'{shop_url}/admin/api/{api_version}/{entity}.json?status=any&{date_type}_min={start_date}T00%3A00%3A00{us_min_tz}%3A00&{date_type}_max={end_date}T23%3A59%3A59{us_max_tz}%3A00&limit={limit}', auth=authentication)\n",
                "\n",
                "        while result.json().get(entity):\n",
                "            data.append((entity, sales_channel_id, result.text, result.url, str(result.links.get('next').get('url') if result.links.get('next') else ''), result.status_code))\n",
                "\n",
                "            if not result.links.get('next'):\n",
                "                break\n",
                "            \n",
                "            result = requests.get(result.links.get('next').get('url'), auth=authentication)\n",
                "    else:\n",
                "        # Get count reqests from REST API and iterate to the end page\n",
                "        result = requests.get(f'{shop_url}/admin/api/{api_version}/{entity}/count.json?status=any&{date_type}_min={start_date}T00%3A00%3A00{us_min_tz}%3A00&{date_type}_max={end_date}T23%3A59%3A59{us_max_tz}%3A00&limit={limit}', auth=authentication)\n",
                "\n",
                "        while True:\n",
                "            data.append((entity + '_count', sales_channel_id, result.text, result.url, str(result.links.get('next').get('url') if result.links.get('next') else ''), result.status_code))\n",
                "\n",
                "            if not result.links.get('next'):\n",
                "                break\n",
                "            \n",
                "            result = requests.get(result.links.get('next').get('url'), auth=authentication)\n",
                "    return data"
            ],
            "metadata": {
                "application/vnd.databricks.v1+cell": {
                    "cellMetadata": {
                        "byteLimit": 2048000,
                        "rowLimit": 10000
                    },
                    "inputWidgets": {},
                    "nuid": "c25b11c7-4363-4a0d-a032-4d08f14c3c0e",
                    "showTitle": false,
                    "title": ""
                },
                "azdata_cell_guid": "5880e7e8-bb44-4c43-8c94-03b24e74fd2a",
                "language": "python"
            },
            "outputs": [],
            "execution_count": null
        },
        {
            "cell_type": "code",
            "source": [
                "def get_requests_all(shop_url: str, api_version: str, entity: str, isCount: bool, limit: int=250, authentication=basic) -> list:\n",
                "    # Create an empty list to hold the result temporarily\n",
                "    data = []\n",
                "    \n",
                "    if not isCount:\n",
                "        # Get requests from REST API and iterate to the end page\n",
                "        result = requests.get(f'{shop_url}/admin/api/{api_version}/{entity}.json?limit={limit}', auth=authentication)\n",
                "\n",
                "        while result.json().get(entity):\n",
                "            data.append((entity, sales_channel_id, result.text, result.url, str(result.links.get('next').get('url') if result.links.get('next') else ''), result.status_code))\n",
                "\n",
                "            if not result.links.get('next'):\n",
                "                break\n",
                "            \n",
                "            result = requests.get(result.links.get('next').get('url'), auth=authentication)\n",
                "    else:\n",
                "        # Get count reqests from REST API and iterate to the end page\n",
                "        result = requests.get(f'{shop_url}/admin/api/{api_version}/{entity}/count.json?limit={limit}', auth=authentication)\n",
                "\n",
                "        while True:\n",
                "            data.append((entity + '_count', sales_channel_id, result.text, result.url, str(result.links.get('next').get('url') if result.links.get('next') else ''), result.status_code))\n",
                "\n",
                "            if not result.links.get('next'):\n",
                "                break\n",
                "            \n",
                "            result = requests.get(result.links.get('next').get('url'), auth=authentication)\n",
                "    return data"
            ],
            "metadata": {
                "application/vnd.databricks.v1+cell": {
                    "cellMetadata": {
                        "byteLimit": 2048000,
                        "rowLimit": 10000
                    },
                    "inputWidgets": {},
                    "nuid": "0c41aa25-016b-415c-bf24-56dba7b5ab0a",
                    "showTitle": false,
                    "title": ""
                },
                "azdata_cell_guid": "35a3265e-0e17-4e9e-affb-62a13b727908",
                "language": "python"
            },
            "outputs": [],
            "execution_count": null
        },
        {
            "cell_type": "code",
            "source": [
                "# Create an empty list to hold the result temporarily\n",
                "data = []\n",
                "\n",
                "# Cross over the entities and data_types\n",
                "for entity in entities:\n",
                "    if entity in [\"locations\", \"products\"]:\n",
                "        # Get count reqests from REST API and iterate to the end page\n",
                "        data += get_requests_all(shop_url, api_version, entity, 1, limit)\n",
                "        # Get requests from REST API and iterate to the end page\n",
                "        data += get_requests_all(shop_url, api_version, entity, 0, limit)\n",
                "    else:\n",
                "        for date_type in date_types:\n",
                "            # Get count reqests from REST API and iterate to the end page\n",
                "            data += get_requests(shop_url, api_version, entity, 1, date_type, start_date, end_date, us_min_tz, us_max_tz, limit)\n",
                "            # Get requests from REST API and iterate to the end page\n",
                "            data += get_requests(shop_url, api_version, entity, 0, date_type, start_date, end_date, us_min_tz, us_max_tz, limit)"
            ],
            "metadata": {
                "application/vnd.databricks.v1+cell": {
                    "cellMetadata": {
                        "byteLimit": 2048000,
                        "rowLimit": 10000
                    },
                    "inputWidgets": {},
                    "nuid": "125fecad-18a3-4530-b686-95f4fb173d9c",
                    "showTitle": false,
                    "title": ""
                },
                "azdata_cell_guid": "7f8de733-5f06-4947-a544-e3f477f07044",
                "language": "python"
            },
            "outputs": [],
            "execution_count": null
        },
        {
            "cell_type": "markdown",
            "source": [
                "# Create a DataFrame"
            ],
            "metadata": {
                "application/vnd.databricks.v1+cell": {
                    "cellMetadata": {
                        "byteLimit": 2048000,
                        "rowLimit": 10000
                    },
                    "inputWidgets": {},
                    "nuid": "b8d1058d-dc51-4fa0-abe8-342b0c742363",
                    "showTitle": false,
                    "title": ""
                },
                "azdata_cell_guid": "e99f57ad-3d29-4b47-87dd-dcd904590a49"
            }
        },
        {
            "cell_type": "code",
            "source": [
                "import pyspark.sql.functions as F\n",
                "import pyspark.sql.types as T\n",
                "\n",
                "# Define the schema for the DataFrame\n",
                "schema = T.StructType(\n",
                "    [\n",
                "        T.StructField(\"shopify_entity\", T.StringType(), False),\n",
                "        T.StructField(\"sales_channel_id\", T.StringType(), False),\n",
                "        T.StructField(\"json_response\", T.StringType(), False),\n",
                "        T.StructField(\"url\", T.StringType(), False),\n",
                "        T.StructField(\"next_url\", T.StringType(), False),\n",
                "        T.StructField(\"http_status\", T.StringType(), False),\n",
                "    ]\n",
                ")\n",
                "\n",
                "# Create a DataFrame\n",
                "df = spark.createDataFrame(data, schema)"
            ],
            "metadata": {
                "application/vnd.databricks.v1+cell": {
                    "cellMetadata": {
                        "byteLimit": 2048000,
                        "rowLimit": 10000
                    },
                    "inputWidgets": {},
                    "nuid": "21e189fa-6618-4858-a618-cb4c6430f90d",
                    "showTitle": false,
                    "title": ""
                },
                "azdata_cell_guid": "c6b6fcda-ff45-4586-9853-a655dfe24e36",
                "language": "python"
            },
            "outputs": [],
            "execution_count": null
        },
        {
            "cell_type": "markdown",
            "source": [
                "# Save the response to Azure SQL DB"
            ],
            "metadata": {
                "application/vnd.databricks.v1+cell": {
                    "cellMetadata": {
                        "byteLimit": 2048000,
                        "rowLimit": 10000
                    },
                    "inputWidgets": {},
                    "nuid": "e7c51b4c-b6c2-404f-8bc5-9bd13fb9cab1",
                    "showTitle": false,
                    "title": ""
                },
                "azdata_cell_guid": "615a487a-b4c1-4827-be48-aba0722d42d2"
            }
        },
        {
            "cell_type": "code",
            "source": [
                "# Define the output columns\n",
                "output_cols = [\n",
                "    \"shopify_entity\",\n",
                "    \"sales_channel_id\",\n",
                "    \"json_response\",\n",
                "    \"url\",\n",
                "    \"next_url\",\n",
                "    \"http_status\",\n",
                "]"
            ],
            "metadata": {
                "application/vnd.databricks.v1+cell": {
                    "cellMetadata": {
                        "byteLimit": 2048000,
                        "rowLimit": 10000
                    },
                    "inputWidgets": {},
                    "nuid": "93f9b454-419c-4204-8a33-00445b72d009",
                    "showTitle": false,
                    "title": ""
                },
                "azdata_cell_guid": "360caa0c-fea2-4f56-81e7-10305a1cb78d",
                "language": "python"
            },
            "outputs": [],
            "execution_count": null
        },
        {
            "cell_type": "code",
            "source": [
                "# Get the current Pacific Time\n",
                "current_timestamp_pt = F.from_utc_timestamp(\n",
                "    F.current_timestamp(), \"America/Los_Angeles\"\n",
                ")\n",
                "\n",
                "# Output with current timestamp\n",
                "df = df.withColumn(\"RecordCreatedDate\", current_timestamp_pt)\n",
                "\n",
                "# Save the output into Azure SQL Database\n",
                "df.select(output_cols).write.jdbc(\n",
                "    url=jdbcUrl,\n",
                "    table=output_table_name,\n",
                "    mode=\"append\",\n",
                "    properties=connectionProperties,\n",
                ")"
            ],
            "metadata": {
                "application/vnd.databricks.v1+cell": {
                    "cellMetadata": {
                        "byteLimit": 2048000,
                        "rowLimit": 10000
                    },
                    "inputWidgets": {},
                    "nuid": "44ff9736-f75e-4b0b-b2f2-a19f7e844fa4",
                    "showTitle": false,
                    "title": ""
                },
                "azdata_cell_guid": "410e9c35-b86f-4067-8fd7-19d1d6cd0bb2",
                "language": "python"
            },
            "outputs": [],
            "execution_count": null
        },
        {
            "cell_type": "code",
            "source": [
                "print(start_date, end_date)\n",
                "df.where(df.shopify_entity == \"orders_count\").show(truncate=False, vertical=True)"
            ],
            "metadata": {
                "application/vnd.databricks.v1+cell": {
                    "cellMetadata": {
                        "byteLimit": 2048000,
                        "rowLimit": 10000
                    },
                    "inputWidgets": {},
                    "nuid": "3ce0eb54-fb13-411e-ae4f-c3f04c63f641",
                    "showTitle": false,
                    "title": ""
                },
                "azdata_cell_guid": "124a3341-3257-4515-863d-243bf4d11677",
                "language": "python"
            },
            "outputs": [],
            "execution_count": null
        },
        {
            "cell_type": "code",
            "source": [
                "df.where(df.shopify_entity == \"customers_count\").show(truncate=False, vertical=True)"
            ],
            "metadata": {
                "application/vnd.databricks.v1+cell": {
                    "cellMetadata": {
                        "byteLimit": 2048000,
                        "rowLimit": 10000
                    },
                    "inputWidgets": {},
                    "nuid": "76861b4d-f310-4f80-ba1a-728b9d9dda17",
                    "showTitle": false,
                    "title": ""
                },
                "azdata_cell_guid": "f906634b-d722-40f0-9dc4-bbee08317710",
                "language": "python"
            },
            "outputs": [],
            "execution_count": null
        },
        {
            "cell_type": "markdown",
            "source": [
                "# Execute stored procedure in DB to load JSON"
            ],
            "metadata": {
                "application/vnd.databricks.v1+cell": {
                    "cellMetadata": {
                        "byteLimit": 2048000,
                        "rowLimit": 10000
                    },
                    "inputWidgets": {},
                    "nuid": "b22807d1-c1d1-47f0-8be8-e5536b905b23",
                    "showTitle": false,
                    "title": ""
                },
                "azdata_cell_guid": "b612f1b1-460a-42eb-8fc2-7ae14e8d0f63"
            }
        },
        {
            "cell_type": "code",
            "source": [
                "driver_manager = spark._sc._gateway.jvm.java.sql.DriverManager\n",
                "connection = driver_manager.getConnection(jdbcUrl, user, password)\n",
                "\n",
                "# Load shopify_response data from Azure SQL Database into a dataframe\n",
                "df_json = spark.read.jdbc(\n",
                "    url=jdbcUrl,\n",
                "    table=output_table_name,\n",
                "    properties=connectionProperties,\n",
                ")\n",
                "\n",
                "# checking whether shopify_response is clear. otherwise, keep executing shopify_load_json.\n",
                "while df_json.count() > 0:    \n",
                "    connection.prepareCall(\"EXEC shopify_load_json;\").execute()\n",
                "    df_json = spark.read.jdbc(\n",
                "        url=jdbcUrl,\n",
                "        table=output_table_name,\n",
                "        properties=connectionProperties,\n",
                "    )\n",
                "\n",
                "# close the connection\n",
                "connection.close()"
            ],
            "metadata": {
                "application/vnd.databricks.v1+cell": {
                    "cellMetadata": {
                        "byteLimit": 2048000,
                        "rowLimit": 10000
                    },
                    "inputWidgets": {},
                    "nuid": "a9aed96e-f975-4ab3-a6e3-31ee74b74284",
                    "showTitle": false,
                    "title": ""
                },
                "azdata_cell_guid": "3d9382d9-c127-4508-8b4e-bc83dce9b464",
                "language": "python"
            },
            "outputs": [],
            "execution_count": null
        }
    ]
}